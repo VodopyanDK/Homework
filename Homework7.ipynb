{
 "cells": [
  {
   "cell_type": "markdown",
   "id": "339823e0",
   "metadata": {},
   "source": [
    "# Домашнее задание \"Исключения и обработка ошибок\" \n"
   ]
  },
  {
   "cell_type": "markdown",
   "id": "19a8c282",
   "metadata": {},
   "source": [
    "## Задание 1  \n",
    "Печатные газеты использовали свой формат дат для каждого выпуска. Для каждой газеты из списка напишите формат указанной даты для перевода в объект datetime:\n",
    "The Moscow Times - Wednesday, October 2, 2002\n",
    "The Guardian - Friday, 11.10.13\n",
    "Daily News - Thursday, 18 August 1977"
   ]
  },
  {
   "cell_type": "code",
   "execution_count": 7,
   "id": "1431ecf3",
   "metadata": {},
   "outputs": [
    {
     "name": "stdout",
     "output_type": "stream",
     "text": [
      "2002-10-02 00:00:00\n",
      "2013-10-11 00:00:00\n",
      "1977-08-18 00:00:00\n"
     ]
    }
   ],
   "source": [
    "from datetime import datetime\n",
    "The_Moscow_Times_string =  'Wednesday, October 2, 2002'\n",
    "The_Moscow_Times_datetime = datetime.strptime(The_Moscow_Times_string, '%A, %B %d, %Y')\n",
    "print(The_Moscow_Times_datetime)\n",
    "The_Guardian_string = 'Friday, 11.10.13'\n",
    "The_Guardian_datetime = datetime.strptime(The_Guardian_string, '%A, %d.%m.%y')\n",
    "print(The_Guardian_datetime)\n",
    "Daily_News_string = 'Thursday, 18 August 1977'\n",
    "Daily_News_datetime = datetime.strptime(Daily_News_string, '%A, %d %B %Y')\n",
    "print(Daily_News_datetime)"
   ]
  },
  {
   "cell_type": "markdown",
   "id": "a84bbd5b",
   "metadata": {},
   "source": [
    "## Задание 2\n"
   ]
  },
  {
   "cell_type": "markdown",
   "id": "4bc86860",
   "metadata": {},
   "source": [
    "Дан поток дат в формате YYYY-MM-DD, в которых встречаются некорректные значения:\n",
    "stream = [‘2018-04-02’, ‘2018-02-29’, ‘2018-19-02’]\n",
    "\n",
    "Напишите функцию, которая проверяет эти даты на корректность. Т. е. для каждой даты возвращает True (дата корректна) или False (некорректная дата).\n",
    "\n"
   ]
  },
  {
   "cell_type": "code",
   "execution_count": 9,
   "id": "afec590d",
   "metadata": {},
   "outputs": [
    {
     "name": "stdout",
     "output_type": "stream",
     "text": [
      "2018-04-02 True\n",
      "2018-02-29 False\n",
      "2018-19-02 False\n"
     ]
    }
   ],
   "source": [
    "stream = ['2018-04-02', '2018-02-29', '2018-19-02']\n",
    "for date in stream:\n",
    "    try:\n",
    "        date_dt = datetime.strptime(date, '%Y-%m-%d')\n",
    "        print(date_dt.strftime('%Y-%m-%d'), True)\n",
    "    except:\n",
    "        print(date, False)"
   ]
  },
  {
   "cell_type": "markdown",
   "id": "00d5a974",
   "metadata": {},
   "source": [
    "## Задание 3\n"
   ]
  },
  {
   "cell_type": "markdown",
   "id": "85d3dae9",
   "metadata": {},
   "source": [
    "Напишите функцию date_range, которая возвращает список дат за период от start_date до end_date. Даты должны вводиться в формате YYYY-MM-DD. В случае неверного формата или при start_date > end_date должен возвращаться пустой список.\n",
    "\n"
   ]
  },
  {
   "cell_type": "code",
   "execution_count": 12,
   "id": "e2382117",
   "metadata": {},
   "outputs": [],
   "source": [
    "def date_range(start_date, end_date):\n",
    "    try:\n",
    "        start_date_dt = datetime.strptime(start_date, '%Y-%m-%d')\n",
    "        end_date_dt = datetime.strptime(end_date, '%Y-%m-%d')\n",
    "        start_date_dt < end_date_dt == True\n",
    "\n",
    "        new_date = start_date_dt\n",
    "        list_ = []\n",
    "        while new_date <= end_date_dt:\n",
    "            list_.append(new_date.strftime('%Y-%m-%d'))\n",
    "            new_date += timedelta(days = 1)\n",
    "        print(list_)\n",
    "    except:\n",
    "        list_ = []\n",
    "        print(list_)\n"
   ]
  },
  {
   "cell_type": "code",
   "execution_count": 15,
   "id": "0d553dbd",
   "metadata": {},
   "outputs": [
    {
     "name": "stdout",
     "output_type": "stream",
     "text": [
      "['2020-02-29', '2020-03-01', '2020-03-02', '2020-03-03', '2020-03-04', '2020-03-05']\n"
     ]
    }
   ],
   "source": [
    "start_date = '2020-02-29'\n",
    "end_date = '2020-03-05'\n",
    "date_range(start_date, end_date)"
   ]
  },
  {
   "cell_type": "code",
   "execution_count": 17,
   "id": "83ed0b1e",
   "metadata": {},
   "outputs": [
    {
     "name": "stdout",
     "output_type": "stream",
     "text": [
      "[]\n"
     ]
    }
   ],
   "source": [
    "start_date = '2019-02-29'\n",
    "end_date = '2020-03-05'\n",
    "date_range(start_date, end_date)"
   ]
  },
  {
   "cell_type": "markdown",
   "id": "fab22c1f",
   "metadata": {},
   "source": [
    "## Задание 4 (бонусное)\n"
   ]
  },
  {
   "cell_type": "markdown",
   "id": "a2ac9cd6",
   "metadata": {},
   "source": [
    "Ваш коллега прислал код функции:\n",
    "\n",
    "DEFAULT_USER_COUNT = 3\n",
    "\n",
    "def delete_and_return_last_user(region, default_list=[‘A100’, ‘A101’, ‘A102’]):\n",
    "\"\"“\n",
    "Удаляет из списка default_list последнего пользователя\n",
    "и возвращает ID нового последнего пользователя.\n",
    "”\"\"\n",
    "element_to_delete = default_list[-1]\n",
    "default_list.remove(element_to_delete)\n",
    "\n",
    "**1 return default_list[DEFAULT_USER_COUNT-2]**\n",
    "\n",
    "При однократном вызове этой функции все работает корректно:\n",
    "delete_and_return_last_user(1)\n",
    "‘A101’\n",
    "\n",
    "Однако, при повторном вызове получается ошибка IndexError: list index out of range.\n",
    "\n",
    "Задание:\n",
    "\n",
    "1. Что значит ошибка list index out of range?\n",
    "2. Почему при первом запуске функция работает корректно, а при втором - нет?\n"
   ]
  },
  {
   "cell_type": "markdown",
   "id": "e7ebafc7",
   "metadata": {},
   "source": [
    "1. list index out of range - означает, что элемента с таким индексом в списке не существует\n",
    "\n",
    "2. При первом запуске функция срабатывает корректно, т.к. в списке три элемента. При удалении одного из них, в списке всё ещё существует элемент с индексом [-2]. Но втором запуске функции (удалении еще одного элемента), в списке остается один элемент - элемента с индексом [-2] уже не существует. Соответственно, выдается вышеуказанная ошибка.\n",
    "\n"
   ]
  },
  {
   "cell_type": "code",
   "execution_count": null,
   "id": "5eb98f93",
   "metadata": {},
   "outputs": [],
   "source": []
  }
 ],
 "metadata": {
  "kernelspec": {
   "display_name": "Python 3",
   "language": "python",
   "name": "python3"
  },
  "language_info": {
   "codemirror_mode": {
    "name": "ipython",
    "version": 3
   },
   "file_extension": ".py",
   "mimetype": "text/x-python",
   "name": "python",
   "nbconvert_exporter": "python",
   "pygments_lexer": "ipython3",
   "version": "3.8.8"
  }
 },
 "nbformat": 4,
 "nbformat_minor": 5
}
