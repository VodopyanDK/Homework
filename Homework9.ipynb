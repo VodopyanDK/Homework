{
 "cells": [
  {
   "cell_type": "markdown",
   "id": "25ba75a4",
   "metadata": {},
   "source": [
    "# Домашнее задание к лекции «Регулярные выражения и основы синтаксического разбора»\n"
   ]
  },
  {
   "cell_type": "code",
   "execution_count": 2,
   "id": "7da5f51b",
   "metadata": {},
   "outputs": [],
   "source": [
    "import re\n"
   ]
  },
  {
   "cell_type": "markdown",
   "id": "29be728a",
   "metadata": {},
   "source": [
    "## Задание 1\n",
    "Напишите функцию, которая принимает на вход строку и проверяет является ли она валидным транспортным номером (1 буква, 3 цифры, 2 буквы, 2-3 цифры). Обратите внимание, что не все буквы кириллического алфавита используются в транспортных номерах.\n",
    "\n",
    "Если номер валиден, то функция должна возвращать отдельно номер и регион.\n",
    "\n",
    "Примеры работы программы:\n",
    "\n",
    "car_id = 'А222BС96’\n",
    "Результат: Номер А222BС валиден. Регион: 96\n",
    "\n",
    "car_id = 'АБ22ВВ193’\n",
    "Результат: Номер не валиден"
   ]
  },
  {
   "cell_type": "code",
   "execution_count": 27,
   "id": "b64f0d56",
   "metadata": {},
   "outputs": [
    {
     "name": "stdout",
     "output_type": "stream",
     "text": [
      "Введите транспортный номер: Е013ВХ71\n",
      "Номер Е013ВХ71 валиден\n",
      "Регион:  ['71']\n"
     ]
    }
   ],
   "source": [
    "number_car = input('Введите транспортный номер: ')\n",
    "# №Е013ВХ71\n",
    "\n",
    "def number_car_check(number):\n",
    "    re_number = '^[АВЕКМНОРСТУХ]\\d{3}(?<!000)[АВЕКМНОРСТУХ]{2}\\d{2,3}'\n",
    "    if re.match(re_number, number):\n",
    "        print('Номер {} валиден'.format(number))\n",
    "        print('Регион: ', re.findall(r'\\d{2,3}$', number))\n",
    "    else:\n",
    "        print ('Номер не валиден')\n",
    "        \n",
    "number_car_check(number_car)"
   ]
  },
  {
   "cell_type": "markdown",
   "id": "ccc7da08",
   "metadata": {},
   "source": [
    "## Задание 2\n",
    "Напишите функцию, которая будет удалять все последовательные повторы слов из заданной строки при помощи регулярных выражений.\n",
    "\n"
   ]
  },
  {
   "cell_type": "code",
   "execution_count": 29,
   "id": "0cb4cead",
   "metadata": {},
   "outputs": [
    {
     "data": {
      "text/plain": [
       "'Напишите функцию, которая будет удалять все последовательные повторы слов из заданой строки при помощи регулярных выражений.'"
      ]
     },
     "execution_count": 29,
     "metadata": {},
     "output_type": "execute_result"
    }
   ],
   "source": [
    "some_string = 'Напишите функцию функцию, которая будет будет будет будет удалять все все все все последовательные повторы слов из из из из заданной строки строки при помощи регулярных выражений.'\n",
    "\n",
    "def string_clear(string):\n",
    "    result = re.sub(r'(.+?)\\1+', r'\\1',string)\n",
    "    return result\n",
    "\n",
    "string_clear(some_string)"
   ]
  },
  {
   "cell_type": "markdown",
   "id": "42ba8405",
   "metadata": {},
   "source": [
    "## Задание 3\n",
    "Напишите функцию, которая будет возвращать акроним по переданной в нее строке со словами.\n",
    "\n",
    "Примеры работы программы:\n",
    "\n",
    "some_words = 'Информационные технологии’\n",
    "Результат: ИТ\n",
    "\n",
    "some_words = 'Near Field Communication’\n",
    "Результат: NFC\n",
    "\n"
   ]
  },
  {
   "cell_type": "code",
   "execution_count": 30,
   "id": "f1abf41e",
   "metadata": {},
   "outputs": [
    {
     "data": {
      "text/plain": [
       "'ИТ'"
      ]
     },
     "execution_count": 30,
     "metadata": {},
     "output_type": "execute_result"
    }
   ],
   "source": [
    "some_words = 'Информационные технологии'\n",
    "\n",
    "def acronym(string):\n",
    "    letters = re.findall(r'(\\b\\w)', string)\n",
    "    #print(letters)\n",
    "    our_acronym = ''.join(letters)\n",
    "    return (our_acronym.upper())\n",
    "\n",
    "acronym(some_words)"
   ]
  },
  {
   "cell_type": "markdown",
   "id": "aecbe3b6",
   "metadata": {},
   "source": [
    "## Задание 4\n",
    "Напишите функцию, которая будет принимать на вход список email-адресов и выводить их распределение по доменным зонам.\n",
    "\n",
    "Пример работы программы:\n",
    "\n",
    "emails = [‘test@gmail.com, xyz@test.in, test@ya.ru, xyz@mail.ru, xyz@ya.ru’, xyz@gmail.com]\n",
    "\n",
    "Результат:\n",
    "\n",
    "gmail.com: 2\n",
    "test.in: 1\n",
    "ya.ru: 2\n",
    "mail.ru: 1"
   ]
  },
  {
   "cell_type": "code",
   "execution_count": 36,
   "id": "ec3d0339",
   "metadata": {},
   "outputs": [
    {
     "name": "stdout",
     "output_type": "stream",
     "text": [
      "gmail.com: 2 test.in: 1 ya.ru: 2 mail.ru: 1\n"
     ]
    }
   ],
   "source": [
    "e_mails = ['test@gmail.com', 'xyz@test.in', 'test@ya.ru', 'xyz@mail.ru', 'xyz@ya.ru', 'xyz@gmail.com']\n",
    "def domains_count(emails):\n",
    "    domains = re.findall(fr'@(\\w+.\\w+)', str(emails))\n",
    "    dict_ = {domain: str(domains.count(domain)) for domain in domains}\n",
    "    \n",
    "    return ' '.join(['%s: %s' % key for key in dict_.items()])\n",
    "print(domains_count(e_mails))"
   ]
  },
  {
   "cell_type": "markdown",
   "id": "905496ed",
   "metadata": {},
   "source": [
    "## Задание 5 (необязательное)\n",
    "\n",
    "Напишите функцию, которая будет подсчитывать сколько слов начинается на гласные, а сколько на согласные буквы в тексте (текст может быть написан как с использованием букв кириллицы, так и латиницы).\n",
    "\n",
    "Пример работы программы:\n",
    "\n",
    "some_text = ‘Эталонной реализацией Python является интерпретатор CPython, поддерживающий большинство активно используемых платформ. Он распространяется под свободной лицензией Python Software Foundation License, позволяющей использовать его без ограничений в любых приложениях, включая проприетарные.’"
   ]
  },
  {
   "cell_type": "code",
   "execution_count": 41,
   "id": "75f0032c",
   "metadata": {},
   "outputs": [
    {
     "name": "stdout",
     "output_type": "stream",
     "text": [
      "Слов на гласные буквы: 9 Слов на согласные буквы: 21\n"
     ]
    }
   ],
   "source": [
    "some_text = 'Эталонной реализацией Python является интерпретатор CPython, поддерживающий большинство активно используемых платформ. Он распространяется под свободной лицензией Python Software Foundation License, позволяющей использовать его без ограничений в любых приложениях, включая проприетарные.'\n",
    "\n",
    "def start_with_vow_cons_letters(text):\n",
    "    vow_pattern = re.compile(r'\\b(?i:([AEIOUYАЕЁИОУЫЭЮЯ]))\\w*\\b')\n",
    "    cons_pattern = re.compile(r'\\b(?i:([BCDFGHJKLMNPQRSTVWXZБВГДЖЗЙКЛМНПРСТФХЦЧШЩЪЬ]))\\w*\\b')\n",
    "    return len(vow_pattern.findall(text)), len(cons_pattern.findall(text))\n",
    "vow, cons = start_with_vow_cons_letters(some_text)\n",
    "print(f'Слов на гласные буквы: {vow} Слов на согласные буквы: {cons}')"
   ]
  }
 ],
 "metadata": {
  "kernelspec": {
   "display_name": "Python 3",
   "language": "python",
   "name": "python3"
  },
  "language_info": {
   "codemirror_mode": {
    "name": "ipython",
    "version": 3
   },
   "file_extension": ".py",
   "mimetype": "text/x-python",
   "name": "python",
   "nbconvert_exporter": "python",
   "pygments_lexer": "ipython3",
   "version": "3.8.8"
  }
 },
 "nbformat": 4,
 "nbformat_minor": 5
}
