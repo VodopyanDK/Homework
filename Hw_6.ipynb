{
 "cells": [
  {
   "cell_type": "markdown",
   "id": "c4fca66d",
   "metadata": {},
   "source": [
    "## Домашнее задание\n",
    "\n",
    "1. Переведите содержимое файла purchase_log.txt в словарь purchases вида:\n",
    "{'1840e0b9d4': 'Продукты', ...}\n",
    "\n",
    "2. Для каждого user_id в файле visit_log.csv добавьте третий столбец с категорией покупки (если покупка была).\n",
    "Запишите в файл funnel.csv визиты из файла visit_log.csv, в которых были покупки с указанием категории.\n",
    "\n",
    "\n",
    "Учтите условия на данные:\n",
    "\n",
    "- содержимое purchase_log.txt помещается в оперативную память компьютера\n",
    "- содержимое visit_log.csv - нет; используйте только построчную обработку этого файла"
   ]
  },
  {
   "cell_type": "code",
   "execution_count": null,
   "id": "f2f3e4bd",
   "metadata": {},
   "outputs": [],
   "source": [
    "import json\n",
    "result = {}\n",
    "with open('C:\\\\Users\\\\vodop\\\\Downloads\\\\Downloads\\\\purchase_log.txt',\"r\", encoding=\"utf-8\") as f:\n",
    "    next(f)\n",
    "    for line in f:\n",
    "        line = line.strip()\n",
    "        dict_ = json.loads(line)\n",
    "        result[dict_['user_id']] = dict_['category']        \n",
    "f.close()\n",
    "\n",
    "with open('C:\\\\Users\\\\vodop\\\\Downloads\\\\Downloads\\\\visit_log.csv',\"r\",encoding=\"utf-8\") as vi:\n",
    "    next(vi)\n",
    "    with open('C:\\\\Users\\\\vodop\\\\Downloads\\\\Downloads\\\\funnel.csv',\"w\") as fu:\n",
    "        for line in vi:\n",
    "            line_ok = line.strip().split(',')\n",
    "            category = result.get(line_ok[0])\n",
    "            if category != None:\n",
    "                line_ok.append(category)\n",
    "                new_line = ','.join(line_ok) + \"\\n\"\n",
    "                fu.write(new_line)\n",
    "vi.close()\n",
    "fu.close()"
   ]
  }
 ],
 "metadata": {
  "kernelspec": {
   "display_name": "Python 3",
   "language": "python",
   "name": "python3"
  },
  "language_info": {
   "codemirror_mode": {
    "name": "ipython",
    "version": 3
   },
   "file_extension": ".py",
   "mimetype": "text/x-python",
   "name": "python",
   "nbconvert_exporter": "python",
   "pygments_lexer": "ipython3",
   "version": "3.8.8"
  }
 },
 "nbformat": 4,
 "nbformat_minor": 5
}
