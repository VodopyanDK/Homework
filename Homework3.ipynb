{
 "cells": [
  {
   "cell_type": "markdown",
   "id": "e2229e17",
   "metadata": {},
   "source": [
    "## Задание 1\n"
   ]
  },
  {
   "cell_type": "markdown",
   "id": "91e01040",
   "metadata": {},
   "source": [
    "Дана переменная, в которой хранится слово из латинских букв. Напишите код, который выводит на экран:\n",
    "\n",
    "- среднюю букву, если число букв в слове нечетное;\n",
    "- две средних буквы, если число букв четное.\n"
   ]
  },
  {
   "cell_type": "markdown",
   "id": "80dc342f",
   "metadata": {},
   "source": [
    "Примеры работы программы:\n",
    "word = ‘test’\n",
    "\n",
    "\n"
   ]
  },
  {
   "cell_type": "code",
   "execution_count": 3,
   "id": "3e625a10",
   "metadata": {
    "scrolled": true
   },
   "outputs": [
    {
     "name": "stdout",
     "output_type": "stream",
     "text": [
      "word: test\n",
      "es\n"
     ]
    }
   ],
   "source": [
    "ent_word = input(\"word: \")\n",
    " \n",
    "first_word = len(ent_word)\n",
    "yes = first_word / 2\n",
    "if first_word % 2 == 0:\n",
    "    print(ent_word[int(yes)-1:int(yes)+1])\n",
    "elif first_word % 2 !=0:\n",
    "    print(ent_word[int(yes)])\n"
   ]
  },
  {
   "cell_type": "markdown",
   "id": "fba6cca3",
   "metadata": {},
   "source": [
    "Примеры работы программы:\n",
    "word = ‘testing’"
   ]
  },
  {
   "cell_type": "code",
   "execution_count": 4,
   "id": "a6caedfb",
   "metadata": {},
   "outputs": [
    {
     "name": "stdout",
     "output_type": "stream",
     "text": [
      "word: testing\n",
      "t\n"
     ]
    }
   ],
   "source": [
    "ent_word = input(\"word: \")\n",
    " \n",
    "first_word = len(ent_word)\n",
    "yes = first_word / 2\n",
    "if first_word % 2 == 0:\n",
    "    print(ent_word[int(yes)-1:int(yes)+1])\n",
    "elif first_word % 2 !=0:\n",
    "    print(ent_word[int(yes)])\n"
   ]
  },
  {
   "cell_type": "markdown",
   "id": "a4ed3054",
   "metadata": {},
   "source": [
    "## Задание 2\n"
   ]
  },
  {
   "cell_type": "markdown",
   "id": "0a34ab69",
   "metadata": {},
   "source": [
    "Напишите программу, которая последовательно запрашивает у пользователя числа (по одному за раз) и после первого нуля выводит сумму всех ранее введенных чисел.\n",
    "\n"
   ]
  },
  {
   "cell_type": "code",
   "execution_count": 5,
   "id": "ebf5abdd",
   "metadata": {},
   "outputs": [
    {
     "name": "stdout",
     "output_type": "stream",
     "text": [
      "Введите число: 1\n",
      "2\n",
      "3\n",
      "4\n",
      "0\n",
      "Результат:  10\n"
     ]
    }
   ],
   "source": [
    "c = int (input(\"Введите число: \"))\n",
    "s = 0\n",
    "while c != 0:\n",
    "    s = s + c\n",
    "    c = int (input())\n",
    "print (\"Результат: \", s)"
   ]
  },
  {
   "cell_type": "markdown",
   "id": "10e99f87",
   "metadata": {},
   "source": [
    "## Задание 3\n"
   ]
  },
  {
   "cell_type": "markdown",
   "id": "78364465",
   "metadata": {},
   "source": [
    "Делаем MVP dating-сервиса, и у нас есть список парней и девушек."
   ]
  },
  {
   "cell_type": "code",
   "execution_count": 6,
   "id": "65c01c02",
   "metadata": {},
   "outputs": [],
   "source": [
    "boys = ['Peter', 'Alex', 'John', 'Arthur', 'Richard']\n",
    "girls = ['Kate', 'Liza', 'Kira', 'Emma', 'Trisha']"
   ]
  },
  {
   "cell_type": "markdown",
   "id": "6e1b89b7",
   "metadata": {},
   "source": [
    "Гипотеза: лучшие рекомендации мы получим, если просто отсортируем имена по алфавиту и познакомим людей с одинаковыми индексами после сортировки! \"Познакомить\" пары нам поможет функция zip, а в цикле распакуем zip-объект и выведем информацию в виде:\n",
    "\n",
    "Идеальные пары:\n",
    "Alex и Emma\n",
    "Arthur и Kate\n",
    "John и Kira\n",
    "Peter и Liza\n",
    "Richard и Trisha"
   ]
  },
  {
   "cell_type": "code",
   "execution_count": 7,
   "id": "51c12696",
   "metadata": {},
   "outputs": [
    {
     "name": "stdout",
     "output_type": "stream",
     "text": [
      "Alex и Emma\n",
      "Arthur и Kate\n",
      "John и Kira\n",
      "Peter и Liza\n",
      "Richard и Trisha\n"
     ]
    }
   ],
   "source": [
    "res = list(zip(sorted(boys),sorted(girls)))\n",
    "for para in res:\n",
    "    print(para[0],'и',para[1])"
   ]
  },
  {
   "cell_type": "markdown",
   "id": "bd7039ef",
   "metadata": {},
   "source": [
    "## Задание 4"
   ]
  },
  {
   "cell_type": "markdown",
   "id": "1b08e3f6",
   "metadata": {},
   "source": [
    "У нас есть список, содержащий информацию о среднедневной температуре в Фаренгейтах за произвольный период по странам. Необходимо написать код, который рассчитает среднюю температуру за период в Цельсиях(!) для каждой страны.\n",
    "\n"
   ]
  },
  {
   "cell_type": "code",
   "execution_count": 13,
   "id": "7efe13e8",
   "metadata": {},
   "outputs": [],
   "source": [
    "countries_temperature = [\n",
    " ['Thailand', [75.2, 77, 78.8, 73.4, 68, 75.2, 77]],\n",
    " ['Germany', [57.2, 55.4, 59, 59, 53.6, 55.4, 57.2]],\n",
    " ['Russia', [35.6, 37.4, 39.2, 41, 42.8, 39.2, 35.6]],\n",
    " ['Poland', [50, 50, 53.6, 57.2, 55.4, 55.4, 51.8]],\n",
    "]"
   ]
  },
  {
   "cell_type": "code",
   "execution_count": 19,
   "id": "95d2cba2",
   "metadata": {},
   "outputs": [
    {
     "name": "stdout",
     "output_type": "stream",
     "text": [
      "Thailand 23.9\n",
      "Germany 13.7\n",
      "Russia 3.7\n",
      "Poland 11.9\n"
     ]
    }
   ],
   "source": [
    "for data in countries_temperature:\n",
    "    print(data[0],round((5/9)*(sum(data[1]) / len(data[1])-32),1))"
   ]
  },
  {
   "cell_type": "markdown",
   "id": "acc16af2",
   "metadata": {},
   "source": [
    "## Задание 5"
   ]
  },
  {
   "cell_type": "markdown",
   "id": "b7de3218",
   "metadata": {},
   "source": [
    "Дан поток логов по количеству просмотренных страниц для каждого пользователя. Необходимо написать алгоритм, который считает среднее значение просмотров на пользователя. Т. е. надо посчитать отношение суммы всех просмотров к количеству уникальных пользователей.\n",
    "\n"
   ]
  },
  {
   "cell_type": "code",
   "execution_count": 21,
   "id": "4fc5fdc8",
   "metadata": {},
   "outputs": [],
   "source": [
    "stream = [\n",
    "'2018-01-01,user1,3',\n",
    "'2018-01-07,user1,4',\n",
    "'2018-03-29,user1,1',\n",
    "'2018-04-04,user1,13',\n",
    "'2018-01-05,user2,7',\n",
    "'2018-06-14,user3,4',\n",
    "'2018-07-02,user3,10',\n",
    "'2018-03-21,user4,19',\n",
    "'2018-03-22,user4,4',\n",
    "'2018-04-22,user4,8',\n",
    "'2018-05-03,user4,9',\n",
    "'2018-05-11,user4,11',\n",
    "]"
   ]
  },
  {
   "cell_type": "code",
   "execution_count": 23,
   "id": "ccd6fa53",
   "metadata": {},
   "outputs": [
    {
     "name": "stdout",
     "output_type": "stream",
     "text": [
      "23.25\n"
     ]
    }
   ],
   "source": [
    "n_users, n_views = 0, 0\n",
    "last_user = ''\n",
    "for s in stream:\n",
    "    s = s.split(',')\n",
    "    if s[1]!=last_user:\n",
    "        n_users += 1\n",
    "        last_user = s[1]\n",
    "    n_views += int(s[2])\n",
    "avg = n_views/n_users\n",
    "print(avg)\n",
    "        \n"
   ]
  },
  {
   "cell_type": "code",
   "execution_count": 24,
   "id": "c84d5fd3",
   "metadata": {},
   "outputs": [],
   "source": [
    "stream = [\n",
    "'2018-01-01,user100,150',\n",
    "'2018-01-07,user99,205',\n",
    "'2018-03-29,user1001,81'\n",
    "]"
   ]
  },
  {
   "cell_type": "code",
   "execution_count": 25,
   "id": "d5d52976",
   "metadata": {},
   "outputs": [
    {
     "name": "stdout",
     "output_type": "stream",
     "text": [
      "145.33333333333334\n"
     ]
    }
   ],
   "source": [
    "n_users, n_views = 0, 0\n",
    "last_user = ''\n",
    "for s in stream:\n",
    "    s = s.split(',')\n",
    "    if s[1]!=last_user:\n",
    "        n_users += 1\n",
    "        last_user = s[1]\n",
    "    n_views += int(s[2])\n",
    "avg = n_views/n_users\n",
    "print(avg)\n",
    "        "
   ]
  },
  {
   "cell_type": "code",
   "execution_count": null,
   "id": "70025dc5",
   "metadata": {},
   "outputs": [],
   "source": []
  }
 ],
 "metadata": {
  "kernelspec": {
   "display_name": "Python 3",
   "language": "python",
   "name": "python3"
  },
  "language_info": {
   "codemirror_mode": {
    "name": "ipython",
    "version": 3
   },
   "file_extension": ".py",
   "mimetype": "text/x-python",
   "name": "python",
   "nbconvert_exporter": "python",
   "pygments_lexer": "ipython3",
   "version": "3.8.8"
  }
 },
 "nbformat": 4,
 "nbformat_minor": 5
}
