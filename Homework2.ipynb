{
 "cells": [
  {
   "cell_type": "markdown",
   "id": "ed4ad6e0",
   "metadata": {},
   "source": [
    "Задание 1\n"
   ]
  },
  {
   "cell_type": "code",
   "execution_count": 1,
   "id": "f7ea97c3",
   "metadata": {},
   "outputs": [
    {
     "name": "stdout",
     "output_type": "stream",
     "text": [
      "Фраза 1 длиннее фразы 2\n"
     ]
    }
   ],
   "source": [
    "phrase_1 = 'Насколько проще было бы писать программы, если бы не заказчики'\n",
    "phrase_2 = '640Кб должно хватить для любых задач. Билл Гейтс (по легенде)'\n",
    "\n",
    "if phrase_1 > phrase_2:\n",
    "    print ('Фраза 1 длиннее фразы 2')"
   ]
  },
  {
   "cell_type": "code",
   "execution_count": 2,
   "id": "2f7007d6",
   "metadata": {},
   "outputs": [
    {
     "name": "stdout",
     "output_type": "stream",
     "text": [
      "Фраза 2 длиннее фразы 1\n"
     ]
    }
   ],
   "source": [
    "phrase_1 = '640Кб должно хватить для любых задач. Билл Гейтс (по легенде)'\n",
    "phrase_2 = 'Насколько проще было бы писать программы, если бы не заказчики'\n",
    "if phrase_1 < phrase_2:\n",
    "    print ('Фраза 2 длиннее фразы 1')\n"
   ]
  },
  {
   "cell_type": "code",
   "execution_count": 3,
   "id": "7fce3c1e",
   "metadata": {},
   "outputs": [
    {
     "name": "stdout",
     "output_type": "stream",
     "text": [
      "Фразы равной длины\n"
     ]
    }
   ],
   "source": [
    "phrase_1 = 'Насколько проще было бы писать программы, если бы не заказчики'\n",
    "phrase_2 = 'Насколько проще было бы писать программы, если бы не заказчики'\n",
    "if phrase_1 == phrase_2:\n",
    "    print ('Фразы равной длины')"
   ]
  },
  {
   "cell_type": "markdown",
   "id": "1b845aea",
   "metadata": {},
   "source": [
    "Задание 2"
   ]
  },
  {
   "cell_type": "code",
   "execution_count": 4,
   "id": "8fdb3f0f",
   "metadata": {},
   "outputs": [
    {
     "name": "stdout",
     "output_type": "stream",
     "text": [
      "2020 Високосный год\n"
     ]
    }
   ],
   "source": [
    "year = 2020\n",
    "\n",
    "if year % 400 == 0:\n",
    "    print(\"%d Високосный год\" %year)\n",
    "elif year % 100 == 0:\n",
    "    print(\"%d Обычный год\" %year)\n",
    "elif year % 4 == 0:\n",
    "    print(\"%d Високосный год\" %year)\n",
    "else:\n",
    "    print(\"%d Обычный год\" %year)"
   ]
  },
  {
   "cell_type": "code",
   "execution_count": 5,
   "id": "d4359fc8",
   "metadata": {},
   "outputs": [
    {
     "name": "stdout",
     "output_type": "stream",
     "text": [
      "2019 Обычный год\n"
     ]
    }
   ],
   "source": [
    "year = 2019\n",
    "\n",
    "if year % 400 == 0:\n",
    "    print(\"%d Високосный год\" %year)\n",
    "elif year % 100 == 0:\n",
    "    print(\"%d Обычный год\" %year)\n",
    "elif year % 4 == 0:\n",
    "    print(\"%d Високосный год\" %year)\n",
    "else:\n",
    "    print(\"%d Обычный год\" %year)"
   ]
  },
  {
   "cell_type": "markdown",
   "id": "7bca8a9b",
   "metadata": {},
   "source": [
    "Задание 3"
   ]
  },
  {
   "cell_type": "code",
   "execution_count": null,
   "id": "3ba965d2",
   "metadata": {},
   "outputs": [],
   "source": [
    "date = int(input(\"Введите день:\"))\n",
    "month = int(input(\"Введите месяц:\"))\n",
    "\n",
    "if (date >= 21 and date <= 31 and month == 3) or (month == 4 and date >= 1 and date <= 19):\n",
    "    print (\"Ваш знак зодиака:Овен\")     \n",
    "elif (date >= 20 and date <= 30 and month == 4) or(month == 5 and date >= 1 and date <= 20):\n",
    "    print (\"Ваш знак зодиака:Телец\")    \n",
    "elif (date >= 21 and date <= 31 and month == 5) or( month == 6 and date >= 1 and date <= 21):\n",
    "    print (\"Ваш знак зодиака:Близнецы\")    \n",
    "elif (date >= 22 and date <= 30 and month == 6) or( month == 7 and date >= 1 and date <= 22):\n",
    "    print (\"Ваш знак зодиака:Рак\")    \n",
    "elif (date >= 23 and date <= 31 and month == 7) or( month == 8 and date >= 1 and date <= 22):\n",
    "    print (\"Ваш знак зодиака:Лев\")    \n",
    "elif (date >= 23 and date <= 31 and month == 8) or( month == 9 and date >= 1 and date <= 22):\n",
    "    print (\"Ваш знак зодиака:Дева\")    \n",
    "elif (date >= 23 and date <= 30 and month == 9) or( month == 10 and date >= 1 and date <= 23):    \n",
    "    print (\"Ваш знак зодиака:Весы\")    \n",
    "elif (date >= 24 and date <= 31 and month == 10) or( month == 11 and date >= 1 and date <= 22):\n",
    "    print (\"Ваш знак зодиака:Скорпион\")    \n",
    "elif (date >= 23 and date <= 30 and month == 11) or( month == 12 and date >= 1 and date <= 21):\n",
    "    print (\"Ваш знак зодиака:Стрелец\")    \n",
    "elif (date >= 22 and date <= 31 and month == 12) or( month == 1 and date>=1 and date <= 20):\n",
    "    print (\"Ваш знак зодиака:Козерог\")    \n",
    "elif (date >= 21 and date <=31 and month == 1) or( month == 2 and date >= 1 and date <= 18):\n",
    "    print (\"Ваш знак зодиака:Водолей\")    \n",
    "elif (date >= 19 and date <= 29 and month == 2) or( month == 3 and date >= 1 and date <= 20):\n",
    "    print (\"Ваш знак зодиака:Рыбы\")    "
   ]
  },
  {
   "cell_type": "markdown",
   "id": "c5a6c407",
   "metadata": {},
   "source": [
    "Задание 4"
   ]
  },
  {
   "cell_type": "code",
   "execution_count": 2,
   "id": "e8805d3d",
   "metadata": {},
   "outputs": [
    {
     "name": "stdout",
     "output_type": "stream",
     "text": [
      "Ширина в см: 15\n",
      "Длина в см: 10\n",
      "Высота в см: 5\n",
      "Коробка №1\n"
     ]
    }
   ],
   "source": [
    "d = 0\n",
    "a = input('Ширина в см: ')\n",
    "b = input('Длина в см: ') \n",
    "c = input('Высота в см: ')\n",
    "while True:\n",
    "    if (a.isnumeric() and b.isnumeric() and c.isnumeric()):\n",
    "        a = int(a)\n",
    "        b = int(b)\n",
    "        c = int(c)\n",
    "        break\n",
    "    else:\n",
    "        print('Вводить можно только числа')\n",
    "        a = input('Ширина в см: ')\n",
    "        b = input('Длина в см: ')\n",
    "        с = input('Высота в см: ')\n",
    "    \n",
    "if (a > 200 or b > 200 or c > 200):\n",
    "    print('Упаковка для лыж')\n",
    "elif (a <= 15 and b <= 15 and c <= 15):\n",
    "    print('Коробка №1')\n",
    "elif (15 < a <= 50 or 15 < b <= 50  or 15 < c <= 50):\n",
    "    print('Коробка №2')\n",
    "else:\n",
    "    print('Коробка №3')"
   ]
  },
  {
   "cell_type": "code",
   "execution_count": null,
   "id": "a7ced4dd",
   "metadata": {},
   "outputs": [],
   "source": []
  }
 ],
 "metadata": {
  "kernelspec": {
   "display_name": "Python 3",
   "language": "python",
   "name": "python3"
  },
  "language_info": {
   "codemirror_mode": {
    "name": "ipython",
    "version": 3
   },
   "file_extension": ".py",
   "mimetype": "text/x-python",
   "name": "python",
   "nbconvert_exporter": "python",
   "pygments_lexer": "ipython3",
   "version": "3.8.8"
  }
 },
 "nbformat": 4,
 "nbformat_minor": 5
}
