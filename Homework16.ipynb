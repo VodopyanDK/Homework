{
 "cells": [
  {
   "cell_type": "markdown",
   "id": "bbf9f409",
   "metadata": {},
   "source": [
    "# Домашнее задание к лекции «Случайные события. Случайные величины»\n",
    "\n",
    "### Задание.\n",
    "\n",
    "Домашнее задание к лекции. http://prntscr.com/uh35yg\n",
    "\n",
    "Смоделировать игру против лотерейного автомата типа “777”. Игрок платит 1 руб., после чего выпадает случайное целое число, равномерно распределенное от 0 до 999. При некоторых значениях числа игрок получает выигрыш (см. справа)\n",
    "\n",
    "777: 200 руб. \n",
    "999: 100 руб. \n",
    "555: 50 руб. \n",
    "333: 15 руб. \n",
    "111: 10 руб. \n",
    "77: 5 руб. \n",
    "**7: 3 руб.00: \n",
    "2 руб. \n",
    "**0: 1 руб.\n",
    "\n",
    "- Выгодна ли игра игроку?\n",
    "- Сколько в среднем приобретает или теряет игрок за одну игру?\n",
    "\n",
    "**Дополнительное задание повышенной сложности. \n",
    "\n",
    "Теоретически рассчитать средний выигрыш (проигрыш) и сравнить с результатами моделирования\n",
    "\n",
    "– любая цифра"
   ]
  },
  {
   "cell_type": "code",
   "execution_count": 2,
   "id": "5df5cd14",
   "metadata": {},
   "outputs": [],
   "source": [
    "import numpy as np"
   ]
  },
  {
   "cell_type": "code",
   "execution_count": 10,
   "id": "e7b22a02",
   "metadata": {},
   "outputs": [],
   "source": [
    "trials = 1000 # Количество попыток\n",
    "successes = 0\n",
    "\n",
    "cost = 1\n",
    "\n",
    "for i in range(trials):\n",
    "    game_num = np.random.randint(1, 999)\n",
    "    cost = cost - 1\n",
    "    if game_num == 777:\n",
    "        cost += 200\n",
    "    elif game_num == 999:\n",
    "        cost += 100\n",
    "    elif game_num == 555:\n",
    "        cost += 50\n",
    "    elif game_num == 333:\n",
    "        cost += 15\n",
    "    elif game_num == 111:\n",
    "        cost += 10\n",
    "    elif game_num == 77:\n",
    "        cost += 5\n",
    "    elif game_num // 7 == 0:\n",
    "        cost += 3\n",
    "    elif game_num // 100 == 0:\n",
    "        cost += 2\n",
    "    elif game_num // 10 == 0:\n",
    "        cost += 1"
   ]
  },
  {
   "cell_type": "code",
   "execution_count": 26,
   "id": "e3fbe7f1",
   "metadata": {},
   "outputs": [
    {
     "name": "stdout",
     "output_type": "stream",
     "text": [
      "Игра не выгодна игроку. Пройгрыш за 1 игру составил -0.221\n"
     ]
    }
   ],
   "source": [
    "cost_per_game = cost / trials\n",
    "\n",
    "if cost_per_game > 0:\n",
    "    print('Игра выгодна игроку. Выйгрыш за 1 игру составил', cost_per_game)\n",
    "else:\n",
    "    print('Игра не выгодна игроку. Пройгрыш за 1 игру составил', cost_per_game)"
   ]
  }
 ],
 "metadata": {
  "kernelspec": {
   "display_name": "Python 3",
   "language": "python",
   "name": "python3"
  },
  "language_info": {
   "codemirror_mode": {
    "name": "ipython",
    "version": 3
   },
   "file_extension": ".py",
   "mimetype": "text/x-python",
   "name": "python",
   "nbconvert_exporter": "python",
   "pygments_lexer": "ipython3",
   "version": "3.8.8"
  }
 },
 "nbformat": 4,
 "nbformat_minor": 5
}
